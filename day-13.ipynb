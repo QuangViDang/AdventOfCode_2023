{
 "cells": [
  {
   "cell_type": "code",
   "execution_count": 11,
   "metadata": {},
   "outputs": [],
   "source": [
    "import re \n",
    "s = []\n",
    "n = []\n",
    "with open('./input.txt', 'r') as file:\n",
    "    file_content = file.read().strip()  \n",
    "individual_strings = file_content.split('\\n\\n')\n",
    "#individual_strings = file_content.split('\\n')\n",
    "for i, individual_str in enumerate(individual_strings, 1):\n",
    "    word = [line for line in individual_str.split('\\n')]\n",
    "    s.append(word)\n",
    "for i, individual_str in enumerate(individual_strings, 1):\n",
    "    word2 = [[*line] for line in individual_str.split('\\n')] \n",
    "    n.append(word2)"
   ]
  },
  {
   "cell_type": "code",
   "execution_count": 12,
   "metadata": {},
   "outputs": [],
   "source": [
    "hsols = []\n",
    "for i in range (len(s)):\n",
    "    for j in range(1,len(s[i])):\n",
    "        c= 0\n",
    "        f= 0\n",
    "        while 0<=(j-c-1) and (j+c)<len(s[i]) :\n",
    "            if s[i][j-1-c] != s[i][j+c]:\n",
    "                f = 1\n",
    "            c+=1\n",
    "        if f ==0:\n",
    "            hsols.append((j*100))\n",
    "            break"
   ]
  },
  {
   "cell_type": "code",
   "execution_count": 13,
   "metadata": {},
   "outputs": [
    {
     "data": {
      "text/plain": [
       "54"
      ]
     },
     "execution_count": 13,
     "metadata": {},
     "output_type": "execute_result"
    }
   ],
   "source": [
    "len(hsols)"
   ]
  },
  {
   "cell_type": "code",
   "execution_count": 14,
   "metadata": {},
   "outputs": [],
   "source": [
    "vsols = []\n",
    "for i in range (len(n)):\n",
    "    for j in range(1,len(n[i][0])):\n",
    "        c= 0\n",
    "        f= 0\n",
    "        while 0<=(j-c-1) and (j+c)<len(n[i][0]) :\n",
    "            for k in range(0,len(n[i])):\n",
    "                \n",
    "                if n[i][k][j-1-c] != s[i][k][j+c]:\n",
    "                    f = 1\n",
    "            c+=1\n",
    "        if f ==0:\n",
    "            vsols.append(j)"
   ]
  },
  {
   "cell_type": "code",
   "execution_count": 15,
   "metadata": {},
   "outputs": [
    {
     "data": {
      "text/plain": [
       "46"
      ]
     },
     "execution_count": 15,
     "metadata": {},
     "output_type": "execute_result"
    }
   ],
   "source": [
    "len(vsols)"
   ]
  },
  {
   "cell_type": "code",
   "execution_count": 16,
   "metadata": {},
   "outputs": [
    {
     "data": {
      "text/plain": [
       "35360"
      ]
     },
     "execution_count": 16,
     "metadata": {},
     "output_type": "execute_result"
    }
   ],
   "source": [
    "sum(vsols)+sum(hsols)"
   ]
  },
  {
   "cell_type": "markdown",
   "metadata": {},
   "source": [
    "## --- Part Two ---"
   ]
  },
  {
   "cell_type": "code",
   "execution_count": 17,
   "metadata": {},
   "outputs": [],
   "source": [
    "hsols = []\n",
    "for i in range (len(n)):\n",
    "    for j in range(1,len(n[i])):\n",
    "        c= 0\n",
    "        f= 0\n",
    "        while 0<=(j-c-1) and (j+c)<len(n[i]) :\n",
    "            for k in range(0,len(n[i][0])):\n",
    "                \n",
    "                if n[i][j-1-c][k] != s[i][j+c][k]:\n",
    "                    f += 1\n",
    "            c+=1\n",
    "        if f ==1:\n",
    "            hsols.append((100*j))"
   ]
  },
  {
   "cell_type": "code",
   "execution_count": 18,
   "metadata": {},
   "outputs": [],
   "source": [
    "vsols = []\n",
    "for i in range (len(n)):\n",
    "    for j in range(1,len(n[i][0])):\n",
    "        c= 0\n",
    "        f= 0\n",
    "        while 0<=(j-c-1) and (j+c)<len(n[i][0]) :\n",
    "            for k in range(0,len(n[i])):\n",
    "                \n",
    "                if n[i][k][j-1-c] != s[i][k][j+c]:\n",
    "                    f += 1\n",
    "            c+=1\n",
    "        if f ==1:\n",
    "            vsols.append(j)"
   ]
  },
  {
   "cell_type": "code",
   "execution_count": 19,
   "metadata": {},
   "outputs": [
    {
     "data": {
      "text/plain": [
       "52"
      ]
     },
     "execution_count": 19,
     "metadata": {},
     "output_type": "execute_result"
    }
   ],
   "source": [
    "len(vsols)"
   ]
  },
  {
   "cell_type": "code",
   "execution_count": 20,
   "metadata": {},
   "outputs": [
    {
     "data": {
      "text/plain": [
       "48"
      ]
     },
     "execution_count": 20,
     "metadata": {},
     "output_type": "execute_result"
    }
   ],
   "source": [
    "len(hsols)"
   ]
  },
  {
   "cell_type": "code",
   "execution_count": 21,
   "metadata": {},
   "outputs": [
    {
     "data": {
      "text/plain": [
       "36755"
      ]
     },
     "execution_count": 21,
     "metadata": {},
     "output_type": "execute_result"
    }
   ],
   "source": [
    "sum(vsols)+sum(hsols)"
   ]
  }
 ],
 "metadata": {
  "kernelspec": {
   "display_name": "Python 3",
   "language": "python",
   "name": "python3"
  },
  "language_info": {
   "codemirror_mode": {
    "name": "ipython",
    "version": 3
   },
   "file_extension": ".py",
   "mimetype": "text/x-python",
   "name": "python",
   "nbconvert_exporter": "python",
   "pygments_lexer": "ipython3",
   "version": "3.12.0"
  }
 },
 "nbformat": 4,
 "nbformat_minor": 2
}
