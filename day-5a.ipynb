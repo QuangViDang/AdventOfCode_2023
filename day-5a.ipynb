{
 "cells": [
  {
   "cell_type": "code",
   "execution_count": 10,
   "metadata": {},
   "outputs": [],
   "source": [
    "import re\n",
    "s = []\n",
    "\n",
    "with open('./input.txt', 'r') as file:\n",
    "    file_content = file.read().strip()  \n",
    "individual_strings = file_content.split('\\n\\n')\n",
    "\n",
    "for i, individual_str in enumerate(individual_strings, 1):\n",
    "    word = [int(num) for num in re.findall(r'\\d+', individual_str)]\n",
    "    s.append(word)"
   ]
  },
  {
   "cell_type": "code",
   "execution_count": 9,
   "metadata": {},
   "outputs": [
    {
     "data": {
      "text/plain": [
       "51580674"
      ]
     },
     "execution_count": 9,
     "metadata": {},
     "output_type": "execute_result"
    }
   ],
   "source": [
    "vs = []\n",
    "for i in range(len(s[0])):\n",
    "    v=int(s[0][i]) \n",
    "    for j in range(1, len(s)):\n",
    "        for m in range(0, len(s[j]),3):\n",
    "            if m<len(s[j]) :\n",
    "                if v>=s[j][m+1]:\n",
    "                    if v<= (s[j][m+1])+(s[j][m+2]):\n",
    "                        v = s[j][m] + (v -s[j][m+1])\n",
    "                        break\n",
    "    vs.append(v)\n",
    "min(vs)"
   ]
  }
 ],
 "metadata": {
  "kernelspec": {
   "display_name": "Python 3",
   "language": "python",
   "name": "python3"
  },
  "language_info": {
   "codemirror_mode": {
    "name": "ipython",
    "version": 3
   },
   "file_extension": ".py",
   "mimetype": "text/x-python",
   "name": "python",
   "nbconvert_exporter": "python",
   "pygments_lexer": "ipython3",
   "version": "3.12.0"
  }
 },
 "nbformat": 4,
 "nbformat_minor": 2
}
